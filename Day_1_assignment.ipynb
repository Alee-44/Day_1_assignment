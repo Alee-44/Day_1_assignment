{
 "cells": [
  {
   "cell_type": "code",
   "execution_count": 2,
   "id": "57e9597f",
   "metadata": {},
   "outputs": [
    {
     "name": "stdout",
     "output_type": "stream",
     "text": [
      "Enter the principle amount :\n",
      "200\n",
      "Enter the rate of interest per annum :\n",
      "5\n",
      "Enter the time :\n",
      "5\n",
      "Simple interest =  50.0\n"
     ]
    }
   ],
   "source": [
    "Principle=int(input(\"Enter the principle amount :\\n\"))\n",
    "Rate=int(input(\"Enter the rate of interest per annum :\\n\"))\n",
    "Time=int(input(\"Enter the time :\\n\"))\n",
    "Simple_interest=Principle*Rate*Time/100\n",
    "print(\"Simple interest = \",Simple_interest)"
   ]
  },
  {
   "cell_type": "code",
   "execution_count": null,
   "id": "b1e71f0d",
   "metadata": {},
   "outputs": [],
   "source": []
  },
  {
   "cell_type": "code",
   "execution_count": null,
   "id": "e406ab52",
   "metadata": {},
   "outputs": [],
   "source": []
  }
 ],
 "metadata": {
  "kernelspec": {
   "display_name": "Python 3",
   "language": "python",
   "name": "python3"
  },
  "language_info": {
   "codemirror_mode": {
    "name": "ipython",
    "version": 3
   },
   "file_extension": ".py",
   "mimetype": "text/x-python",
   "name": "python",
   "nbconvert_exporter": "python",
   "pygments_lexer": "ipython3",
   "version": "3.8.8"
  }
 },
 "nbformat": 4,
 "nbformat_minor": 5
}
